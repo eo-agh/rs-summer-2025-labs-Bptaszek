{
 "cells": [
  {
   "cell_type": "markdown",
   "id": "6a35dba3",
   "metadata": {},
   "source": [
    "# Laboratory Exercise 1: Introduction to Google Earth Engine (GEE)\n",
    "In this lab, you will learn how to initialize Google Earth Engine (GEE), select satellite images, visualize data, and analyze basic metadata."
   ]
  },
  {
   "cell_type": "markdown",
   "id": "1c5f6c68",
   "metadata": {},
   "source": [
    "## Task 1: Initialize Google Earth Engine\n",
    "Authenticate and initialize the Google Earth Engine (GEE) API."
   ]
  },
  {
   "cell_type": "code",
   "execution_count": 1,
   "id": "2dbfdbda",
   "metadata": {},
   "outputs": [],
   "source": [
    "import ee\n",
    "# Authenticate and initialize GEE\n",
    "# TODO: Use the Earth Engine library to authenticate and initialize your session\n",
    "ee.Authenticate()\n",
    "ee.Initialize(project='forevery32')\n"
   ]
  },
  {
   "cell_type": "markdown",
   "id": "7b7d36d4",
   "metadata": {},
   "source": [
    "## Task 2: Define Area of Interest (AOI)\n",
    "Define your area of interest (AOI). You can use either a point or a bounding box.\n",
    "Example coordinates are provided below (Krakow, Poland). Adjust them for your location."
   ]
  },
  {
   "cell_type": "code",
   "execution_count": 3,
   "id": "75f06d59",
   "metadata": {},
   "outputs": [],
   "source": [
    "# Define AOI\n",
    "# TODO: Replace with your coordinates\n",
    "aoi = ee.Geometry.Point([21.411874, 50.055315])  # Example: Krakow\n",
    "# or\n",
    "# aoi = ee.Geometry.Rectangle([west, south, east, north])"
   ]
  },
  {
   "cell_type": "markdown",
   "id": "fc029d60",
   "metadata": {},
   "source": [
    "## Task 3: Retrieve Sentinel-2 Data\n",
    "Retrieve Sentinel-2 imagery for your defined AOI within a specific date range. Sort the images based on cloud cover percentage."
   ]
  },
  {
   "cell_type": "code",
   "execution_count": 4,
   "id": "5e08ded8",
   "metadata": {},
   "outputs": [],
   "source": [
    "\n",
    "# Retrieve Sentinel-2 Data\n",
    "# TODO: Adjust the date range and retrieve the least cloudy Sentinel-2 image\n",
    "sentinel2 = ee.ImageCollection('COPERNICUS/S2_HARMONIZED') \\\n",
    "    .filterDate('2025-02-01', '2025-03-01') \\\n",
    "    .filterBounds(aoi) \\\n",
    "    .sort('CLOUDY_PIXEL_PERCENTAGE')\n",
    "image = sentinel2.first()\n",
    "metadata = image.getInfo()\n"
   ]
  },
  {
   "cell_type": "markdown",
   "id": "8024b605",
   "metadata": {},
   "source": [
    "## Task 4: Extract Image Metadata\n",
    "Extract and print metadata from the selected image, such as ID, cloud cover percentage, mean solar azimuth and zenith angles, and processing level."
   ]
  },
  {
   "cell_type": "code",
   "execution_count": 5,
   "id": "14d34b82",
   "metadata": {},
   "outputs": [
    {
     "name": "stdout",
     "output_type": "stream",
     "text": [
      "{'Cloud coverage assessment': 4.603810206336, ' Mean solar zenith angle': 61.4723535639563, 'Mean solar azimuth angle:': 163.338045320742, 'Processing baseline:': '05.11'}\n"
     ]
    }
   ],
   "source": [
    "# Extract metadata\n",
    "# TODO: Retrieve and display image metadata\n",
    "metadata = {\n",
    "    \"Cloud coverage assessment\" : image.get('CLOUD_COVERAGE_ASSESSMENT').getInfo(),\n",
    "    \" Mean solar zenith angle\" : image.get('MEAN_SOLAR_ZENITH_ANGLE').getInfo(),\n",
    "    \"Mean solar azimuth angle:\" : image.get('MEAN_SOLAR_AZIMUTH_ANGLE').getInfo(),\n",
    "    \"Processing baseline:\" : image.get('PROCESSING_BASELINE').getInfo()\n",
    "}\n",
    "print(metadata)\n"
   ]
  },
  {
   "cell_type": "markdown",
   "id": "d5113faa",
   "metadata": {},
   "source": [
    "## Task 5: Visualize Image\n",
    "Create a map and visualize the Sentinel-2 image using different visualization parameters (e.g., true color, false color)."
   ]
  },
  {
   "cell_type": "code",
   "execution_count": 7,
   "id": "ffe9a4f2",
   "metadata": {},
   "outputs": [
    {
     "data": {
      "text/html": [
       "\n",
       "            <style>\n",
       "                .geemap-dark {\n",
       "                    --jp-widgets-color: white;\n",
       "                    --jp-widgets-label-color: white;\n",
       "                    --jp-ui-font-color1: white;\n",
       "                    --jp-layout-color2: #454545;\n",
       "                    background-color: #383838;\n",
       "                }\n",
       "\n",
       "                .geemap-dark .jupyter-button {\n",
       "                    --jp-layout-color3: #383838;\n",
       "                }\n",
       "\n",
       "                .geemap-colab {\n",
       "                    background-color: var(--colab-primary-surface-color, white);\n",
       "                }\n",
       "\n",
       "                .geemap-colab .jupyter-button {\n",
       "                    --jp-layout-color3: var(--colab-primary-surface-color, white);\n",
       "                }\n",
       "            </style>\n",
       "            "
      ],
      "text/plain": [
       "<IPython.core.display.HTML object>"
      ]
     },
     "metadata": {},
     "output_type": "display_data"
    },
    {
     "data": {
      "application/vnd.jupyter.widget-view+json": {
       "model_id": "99ed1317b3214e7b80c5b0ff4db879ac",
       "version_major": 2,
       "version_minor": 0
      },
      "text/plain": [
       "Map(center=[50.05607109575864, 21.76648674535491], controls=(WidgetControl(options=['position', 'transparent_b…"
      ]
     },
     "execution_count": 7,
     "metadata": {},
     "output_type": "execute_result"
    }
   ],
   "source": [
    "import geemap\n",
    "# Visualization\n",
    "# TODO: Create visualization layers using true color and false color compositions\n",
    "# Example parameters provided below:\n",
    "true_color_params = {'bands': ['B4', 'B3', 'B2'], 'min': 0, 'max': 3000}\n",
    "false_color_params = {'bands': ['B8', 'B4', 'B3'], 'min': 0, 'max': 5000}\n",
    "Map=geemap.Map()\n",
    "Map.addLayer(image, true_color_params, \"True color\")\n",
    "Map.addLayer(image, false_color_params, \"False color\")\n",
    "Map.centerObject(image, zoom=10)\n",
    "# TODO: Add these layers to an interactive map\n",
    "\n",
    "Map\n",
    "\n",
    "\n"
   ]
  },
  {
   "cell_type": "markdown",
   "id": "cfc58f9d",
   "metadata": {},
   "source": [
    "## Submission\n",
    "Save your completed notebook and submit it to your course repository."
   ]
  }
 ],
 "metadata": {
  "kernelspec": {
   "display_name": "eo_lab",
   "language": "python",
   "name": "python3"
  },
  "language_info": {
   "codemirror_mode": {
    "name": "ipython",
    "version": 3
   },
   "file_extension": ".py",
   "mimetype": "text/x-python",
   "name": "python",
   "nbconvert_exporter": "python",
   "pygments_lexer": "ipython3",
   "version": "3.9.21"
  }
 },
 "nbformat": 4,
 "nbformat_minor": 2
}
