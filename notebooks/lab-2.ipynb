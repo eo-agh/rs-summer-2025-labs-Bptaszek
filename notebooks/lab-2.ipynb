{
 "cells": [
  {
   "cell_type": "markdown",
   "id": "c115edb2",
   "metadata": {},
   "source": [
    "# Exercise 2: Vegetation Index Analysis\n",
    "In this exercise, you will analyze vegetation changes within one growing season in a selected agricultural region (Kujawy, Poland)."
   ]
  },
  {
   "cell_type": "markdown",
   "id": "1761c7f1",
   "metadata": {},
   "source": [
    "## Task 1: Define AOI\n",
    "Create an Area of Interest (AOI) using the coordinates provided below."
   ]
  },
  {
   "cell_type": "code",
   "execution_count": 24,
   "id": "9f4c98f3",
   "metadata": {},
   "outputs": [
    {
     "data": {
      "text/html": [
       "\n",
       "            <style>\n",
       "                .geemap-dark {\n",
       "                    --jp-widgets-color: white;\n",
       "                    --jp-widgets-label-color: white;\n",
       "                    --jp-ui-font-color1: white;\n",
       "                    --jp-layout-color2: #454545;\n",
       "                    background-color: #383838;\n",
       "                }\n",
       "\n",
       "                .geemap-dark .jupyter-button {\n",
       "                    --jp-layout-color3: #383838;\n",
       "                }\n",
       "\n",
       "                .geemap-colab {\n",
       "                    background-color: var(--colab-primary-surface-color, white);\n",
       "                }\n",
       "\n",
       "                .geemap-colab .jupyter-button {\n",
       "                    --jp-layout-color3: var(--colab-primary-surface-color, white);\n",
       "                }\n",
       "            </style>\n",
       "            "
      ],
      "text/plain": [
       "<IPython.core.display.HTML object>"
      ]
     },
     "metadata": {},
     "output_type": "display_data"
    }
   ],
   "source": [
    "# TODO: Define AOI\n",
    "import ee \n",
    "ee.Authenticate()\n",
    "ee.Initialize(project='forevery32')\n",
    "aoi = ee.Geometry.Rectangle([21.610414, 50.001095, 22, 50.5])"
   ]
  },
  {
   "cell_type": "markdown",
   "id": "44ec57e7",
   "metadata": {},
   "source": [
    "## Task 2: Retrieve Sentinel-2 Imagery\n",
    "Retrieve two Sentinel-2 satellite images from the following dates: 2023-04-01 and 2023-07-01."
   ]
  },
  {
   "cell_type": "code",
   "execution_count": 25,
   "id": "cd32529c",
   "metadata": {},
   "outputs": [
    {
     "data": {
      "text/html": [
       "\n",
       "            <style>\n",
       "                .geemap-dark {\n",
       "                    --jp-widgets-color: white;\n",
       "                    --jp-widgets-label-color: white;\n",
       "                    --jp-ui-font-color1: white;\n",
       "                    --jp-layout-color2: #454545;\n",
       "                    background-color: #383838;\n",
       "                }\n",
       "\n",
       "                .geemap-dark .jupyter-button {\n",
       "                    --jp-layout-color3: #383838;\n",
       "                }\n",
       "\n",
       "                .geemap-colab {\n",
       "                    background-color: var(--colab-primary-surface-color, white);\n",
       "                }\n",
       "\n",
       "                .geemap-colab .jupyter-button {\n",
       "                    --jp-layout-color3: var(--colab-primary-surface-color, white);\n",
       "                }\n",
       "            </style>\n",
       "            "
      ],
      "text/plain": [
       "<IPython.core.display.HTML object>"
      ]
     },
     "metadata": {},
     "output_type": "display_data"
    }
   ],
   "source": [
    "# TODO: Retrieve Sentinel-2 images for the selected dates.\n",
    "sentinel2_04 = ee.ImageCollection('COPERNICUS/S2_HARMONIZED') \\\n",
    "    .filterDate('2023-04-01', '2023-04-30') \\\n",
    "    .filterBounds(aoi) \\\n",
    "    .sort('CLOUDY_PIXEL_PERCENTAGE')\n",
    "sentinel2_07 = ee.ImageCollection('COPERNICUS/S2_HARMONIZED') \\\n",
    "    .filterDate('2023-07-01', '2023-07-30') \\\n",
    "    .filterBounds(aoi) \\\n",
    "    .sort('CLOUDY_PIXEL_PERCENTAGE')\n",
    "image_04= sentinel2_04.first()\n",
    "image_07 = sentinel2_07.first()\n",
    "metadata1 = image_04.getInfo()\n",
    "metadata2 = image_07.getInfo()"
   ]
  },
  {
   "cell_type": "markdown",
   "id": "e0d5a72c",
   "metadata": {},
   "source": [
    "## Task 3: Calculate NDVI\n",
    "Calculate the Normalized Difference Vegetation Index (NDVI) for both images."
   ]
  },
  {
   "cell_type": "code",
   "execution_count": 26,
   "id": "5454dd10",
   "metadata": {},
   "outputs": [
    {
     "data": {
      "text/html": [
       "\n",
       "            <style>\n",
       "                .geemap-dark {\n",
       "                    --jp-widgets-color: white;\n",
       "                    --jp-widgets-label-color: white;\n",
       "                    --jp-ui-font-color1: white;\n",
       "                    --jp-layout-color2: #454545;\n",
       "                    background-color: #383838;\n",
       "                }\n",
       "\n",
       "                .geemap-dark .jupyter-button {\n",
       "                    --jp-layout-color3: #383838;\n",
       "                }\n",
       "\n",
       "                .geemap-colab {\n",
       "                    background-color: var(--colab-primary-surface-color, white);\n",
       "                }\n",
       "\n",
       "                .geemap-colab .jupyter-button {\n",
       "                    --jp-layout-color3: var(--colab-primary-surface-color, white);\n",
       "                }\n",
       "            </style>\n",
       "            "
      ],
      "text/plain": [
       "<IPython.core.display.HTML object>"
      ]
     },
     "metadata": {},
     "output_type": "display_data"
    },
    {
     "name": "stdout",
     "output_type": "stream",
     "text": [
      "NDVI (April): {'type': 'Image', 'bands': [{'id': 'NDVI_04', 'data_type': {'type': 'PixelType', 'precision': 'float', 'min': -1, 'max': 1}, 'dimensions': [10980, 10980], 'crs': 'EPSG:32634', 'crs_transform': [10, 0, 499980, 0, -10, 5700000]}], 'properties': {'system:footprint': {'type': 'LinearRing', 'coordinates': [[22.09355282062346, 51.4461596705036], [22.093523985321106, 51.44614609262145], [22.092647862844007, 51.445614807422054], [22.092615076048254, 51.445588033523975], [21.703320750078863, 50.49029338085735], [21.69276514978594, 50.46282624922525], [21.692753077258192, 50.462006488097316], [21.692793220227664, 50.46197697019406], [21.692800756580926, 50.461938264996036], [21.69282992178943, 50.46192561887946], [21.693128957076496, 50.46182791568044], [21.69317360417122, 50.461824077768604], [22.546157749046532, 50.45361687530687], [22.546301335043005, 50.45368453531473], [22.562618317859577, 50.94714694682947], [22.579400707911027, 51.440543103159456], [22.579292225892623, 51.44063454383952], [22.093626792864814, 51.44617164396294], [22.09355282062346, 51.4461596705036]]}}}\n",
      "NDVI (July): {'type': 'Image', 'bands': [{'id': 'NDVI_07', 'data_type': {'type': 'PixelType', 'precision': 'float', 'min': -1, 'max': 1}, 'dimensions': [10980, 10980], 'crs': 'EPSG:32634', 'crs_transform': [10, 0, 499980, 0, -10, 5700000]}], 'properties': {'system:footprint': {'type': 'LinearRing', 'coordinates': [[22.095230880203466, 51.446115301559544], [22.095214771260945, 51.4460951640917], [22.094311028271616, 51.44448178194911], [22.09065114972024, 51.43587977460505], [22.08058505430735, 51.411693794528745], [21.720811212766872, 50.52795901842724], [21.69531680426121, 50.4638905793204], [21.695292736185106, 50.462247944553525], [21.69530714218755, 50.46222088730377], [21.695583654679307, 50.46185949170107], [21.69564028589971, 50.461844458588935], [21.695677410765033, 50.46180915770461], [22.546157749046532, 50.45361687530687], [22.546301335043005, 50.45368453531473], [22.562618317859577, 50.94714694682947], [22.579400707911027, 51.440543103159456], [22.579292225892623, 51.44063454383952], [22.095353321012933, 51.44615549193601], [22.095299378011727, 51.44612675726786], [22.095230880203466, 51.446115301559544]]}}}\n"
     ]
    }
   ],
   "source": [
    "# TODO: Calculate NDVI for both images (Choose the appropriate S-2 bands).\n",
    "ndvi_04 = sentinel2_04.first()\n",
    "ndvi_07 = sentinel2_07.first()\n",
    "\n",
    "ndvi_04 = image_04.normalizedDifference(['B8', 'B4']).rename('NDVI_04')\n",
    "ndvi_07 = image_07.normalizedDifference(['B8', 'B4']).rename('NDVI_07')    \n",
    "\n",
    "print('NDVI (April):', ndvi_04.getInfo())\n",
    "print('NDVI (July):', ndvi_07.getInfo())"
   ]
  },
  {
   "cell_type": "markdown",
   "id": "92023a75",
   "metadata": {},
   "source": [
    "## Task 4: Compare NDVI\n",
    "Display both NDVI indices on the map and calculate and visualize their difference."
   ]
  },
  {
   "cell_type": "code",
   "execution_count": 40,
   "id": "bc2f4d29",
   "metadata": {},
   "outputs": [
    {
     "data": {
      "text/html": [
       "\n",
       "            <style>\n",
       "                .geemap-dark {\n",
       "                    --jp-widgets-color: white;\n",
       "                    --jp-widgets-label-color: white;\n",
       "                    --jp-ui-font-color1: white;\n",
       "                    --jp-layout-color2: #454545;\n",
       "                    background-color: #383838;\n",
       "                }\n",
       "\n",
       "                .geemap-dark .jupyter-button {\n",
       "                    --jp-layout-color3: #383838;\n",
       "                }\n",
       "\n",
       "                .geemap-colab {\n",
       "                    background-color: var(--colab-primary-surface-color, white);\n",
       "                }\n",
       "\n",
       "                .geemap-colab .jupyter-button {\n",
       "                    --jp-layout-color3: var(--colab-primary-surface-color, white);\n",
       "                }\n",
       "            </style>\n",
       "            "
      ],
      "text/plain": [
       "<IPython.core.display.HTML object>"
      ]
     },
     "metadata": {},
     "output_type": "display_data"
    },
    {
     "data": {
      "application/vnd.jupyter.widget-view+json": {
       "model_id": "24c03dc77bac434abd161eba1da4744c",
       "version_major": 2,
       "version_minor": 0
      },
      "text/plain": [
       "Map(center=[0, 0], controls=(WidgetControl(options=['position', 'transparent_bg'], widget=SearchDataGUI(childr…"
      ]
     },
     "execution_count": 40,
     "metadata": {},
     "output_type": "execute_result"
    }
   ],
   "source": [
    "# TODO: Compare NDVI, visualize the differences, and analyze vegetation changes.\n",
    "import geemap\n",
    "ndvi_diff = ndvi_07.subtract(ndvi_04).rename('NDVI_Change')\n",
    "\n",
    "Map3=geemap.Map()\n",
    "\n",
    "\n",
    "Map3.addLayer(ndvi_diff, {\n",
    "    'min': -0.5, 'max': 0.5,\n",
    "    'palette': ['red', 'blue', 'green']\n",
    "}, 'NDVI Difference')\n",
    "\n",
    "Map3\n",
    "\n"
   ]
  },
  {
   "cell_type": "markdown",
   "id": "22cab30e",
   "metadata": {},
   "source": [
    "## Task 5: Interpret the Results\n",
    "Briefly describe the meaning of the observed NDVI changes within the analyzed period. We can see if there is blue color there no change. Red color shows when NDVI is lowering and Green one when NVDI obtain bigger values."
   ]
  },
  {
   "cell_type": "code",
   "execution_count": null,
   "id": "c5d0d661",
   "metadata": {},
   "outputs": [],
   "source": [
    "# TODO: Provide your interpretation here in a Markdown cell.\n",
    "#"
   ]
  },
  {
   "cell_type": "markdown",
   "id": "c968b686",
   "metadata": {},
   "source": [
    "## Task 6: False Color Composite for Vegetation Condition Assessment\n",
    "Add false-color composites (NIR, RED, GREEN) for both dates to the map for visual assessment of vegetation condition."
   ]
  },
  {
   "cell_type": "code",
   "execution_count": 33,
   "id": "f6c53f4d",
   "metadata": {},
   "outputs": [
    {
     "data": {
      "text/html": [
       "\n",
       "            <style>\n",
       "                .geemap-dark {\n",
       "                    --jp-widgets-color: white;\n",
       "                    --jp-widgets-label-color: white;\n",
       "                    --jp-ui-font-color1: white;\n",
       "                    --jp-layout-color2: #454545;\n",
       "                    background-color: #383838;\n",
       "                }\n",
       "\n",
       "                .geemap-dark .jupyter-button {\n",
       "                    --jp-layout-color3: #383838;\n",
       "                }\n",
       "\n",
       "                .geemap-colab {\n",
       "                    background-color: var(--colab-primary-surface-color, white);\n",
       "                }\n",
       "\n",
       "                .geemap-colab .jupyter-button {\n",
       "                    --jp-layout-color3: var(--colab-primary-surface-color, white);\n",
       "                }\n",
       "            </style>\n",
       "            "
      ],
      "text/plain": [
       "<IPython.core.display.HTML object>"
      ]
     },
     "metadata": {},
     "output_type": "display_data"
    },
    {
     "data": {
      "application/vnd.jupyter.widget-view+json": {
       "model_id": "a9ee68fc71154afcbde9847f81c4b8f0",
       "version_major": 2,
       "version_minor": 0
      },
      "text/plain": [
       "Map(center=[50.90438519723524, 22.217351633596063], controls=(WidgetControl(options=['position', 'transparent_…"
      ]
     },
     "execution_count": 33,
     "metadata": {},
     "output_type": "execute_result"
    }
   ],
   "source": [
    "# TODO: Create a false-color composite (NIR, RED, GREEN) and add it to the map\n",
    "vegetation_viz = {'bands': ['B8', 'B4', 'B3'], 'min': 0, 'max': 4000}\n",
    "# Add Sentinel-2 images for both dates to the map using this composite.\n",
    "Map2=geemap.Map()\n",
    "Map2.addLayer(image_04, vegetation_viz, \"April\")\n",
    "Map2.addLayer(image_07, vegetation_viz, \"July\")\n",
    "Map2.centerObject(image_07, zoom=10)\n",
    "Map2"
   ]
  }
 ],
 "metadata": {
  "kernelspec": {
   "display_name": "eo_lab",
   "language": "python",
   "name": "python3"
  },
  "language_info": {
   "codemirror_mode": {
    "name": "ipython",
    "version": 3
   },
   "file_extension": ".py",
   "mimetype": "text/x-python",
   "name": "python",
   "nbconvert_exporter": "python",
   "pygments_lexer": "ipython3",
   "version": "3.9.21"
  }
 },
 "nbformat": 4,
 "nbformat_minor": 5
}
